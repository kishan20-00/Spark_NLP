{
  "nbformat": 4,
  "nbformat_minor": 0,
  "metadata": {
    "colab": {
      "provenance": [],
      "authorship_tag": "ABX9TyOifo7UZ7T0LNG7AYygxDBV",
      "include_colab_link": true
    },
    "kernelspec": {
      "name": "python3",
      "display_name": "Python 3"
    },
    "language_info": {
      "name": "python"
    }
  },
  "cells": [
    {
      "cell_type": "markdown",
      "metadata": {
        "id": "view-in-github",
        "colab_type": "text"
      },
      "source": [
        "<a href=\"https://colab.research.google.com/github/kishan20-00/Spark_NLP/blob/main/Spark_NLP.ipynb\" target=\"_parent\"><img src=\"https://colab.research.google.com/assets/colab-badge.svg\" alt=\"Open In Colab\"/></a>"
      ]
    },
    {
      "cell_type": "code",
      "execution_count": 1,
      "metadata": {
        "id": "LR3LDqAhK94q"
      },
      "outputs": [],
      "source": [
        "pip install -q pyspark py4j"
      ]
    },
    {
      "cell_type": "code",
      "source": [
        "from pyspark.ml.feature import HashingTF, IDF, Tokenizer\n",
        "from pyspark.sql import SparkSession"
      ],
      "metadata": {
        "id": "U4oh8GwBLEFA"
      },
      "execution_count": 2,
      "outputs": []
    },
    {
      "cell_type": "code",
      "source": [
        "spark = SparkSession\\\n",
        "        .builder\\\n",
        "        .getOrCreate()"
      ],
      "metadata": {
        "id": "9mHkMEtWLQqe"
      },
      "execution_count": 3,
      "outputs": []
    },
    {
      "cell_type": "code",
      "source": [
        "sentenceData = spark.createDataFrame([(0.0, \"Hi I heard about Spark\"),\n",
        "                                      (0.0, \"I wish Java could use some classes\"),\n",
        "                                      (0.0, \"Logistic regression models are neat\")],\n",
        "                                     [\"label\",\"sentence\"])"
      ],
      "metadata": {
        "id": "Rj3B9KQVLYVF"
      },
      "execution_count": 4,
      "outputs": []
    },
    {
      "cell_type": "code",
      "source": [
        "sentenceData.show()"
      ],
      "metadata": {
        "colab": {
          "base_uri": "https://localhost:8080/"
        },
        "id": "c-EitBN-L5n2",
        "outputId": "83462db1-9018-44e3-821e-1cfe49ad43b4"
      },
      "execution_count": 5,
      "outputs": [
        {
          "output_type": "stream",
          "name": "stdout",
          "text": [
            "+-----+--------------------+\n",
            "|label|            sentence|\n",
            "+-----+--------------------+\n",
            "|  0.0|Hi I heard about ...|\n",
            "|  0.0|I wish Java could...|\n",
            "|  0.0|Logistic regressi...|\n",
            "+-----+--------------------+\n",
            "\n"
          ]
        }
      ]
    },
    {
      "cell_type": "code",
      "source": [
        "tokenizer = Tokenizer(inputCol= \"sentence\", outputCol=\"words\")"
      ],
      "metadata": {
        "id": "FBWLuuQxL8-c"
      },
      "execution_count": 6,
      "outputs": []
    },
    {
      "cell_type": "code",
      "source": [
        "wordsData = tokenizer.transform(sentenceData)"
      ],
      "metadata": {
        "id": "xRM2RpuDNHAH"
      },
      "execution_count": 7,
      "outputs": []
    },
    {
      "cell_type": "code",
      "source": [
        "wordsData.show()"
      ],
      "metadata": {
        "colab": {
          "base_uri": "https://localhost:8080/"
        },
        "id": "9Fb2ZBsbNO29",
        "outputId": "f59206dd-398b-4e30-d0c2-252f2967cb47"
      },
      "execution_count": 8,
      "outputs": [
        {
          "output_type": "stream",
          "name": "stdout",
          "text": [
            "+-----+--------------------+--------------------+\n",
            "|label|            sentence|               words|\n",
            "+-----+--------------------+--------------------+\n",
            "|  0.0|Hi I heard about ...|[hi, i, heard, ab...|\n",
            "|  0.0|I wish Java could...|[i, wish, java, c...|\n",
            "|  0.0|Logistic regressi...|[logistic, regres...|\n",
            "+-----+--------------------+--------------------+\n",
            "\n"
          ]
        }
      ]
    },
    {
      "cell_type": "code",
      "source": [
        "hashingTF = HashingTF(inputCol= \"words\", outputCol=\"rawFeatures\", numFeatures=20)"
      ],
      "metadata": {
        "id": "wrfFATwzNQMV"
      },
      "execution_count": 9,
      "outputs": []
    },
    {
      "cell_type": "code",
      "source": [
        "featurizedData = hashingTF.transform(wordsData)"
      ],
      "metadata": {
        "id": "zgIDMA9nNr1l"
      },
      "execution_count": 10,
      "outputs": []
    },
    {
      "cell_type": "code",
      "source": [
        "featurizedData['rawFeatures']"
      ],
      "metadata": {
        "colab": {
          "base_uri": "https://localhost:8080/"
        },
        "id": "WcynURDKOMoe",
        "outputId": "f9278fbe-cfec-4313-a921-4d887ab462f9"
      },
      "execution_count": 11,
      "outputs": [
        {
          "output_type": "execute_result",
          "data": {
            "text/plain": [
              "Column<'rawFeatures'>"
            ]
          },
          "metadata": {},
          "execution_count": 11
        }
      ]
    },
    {
      "cell_type": "code",
      "source": [
        "idf = IDF(inputCol=\"rawFeatures\", outputCol=\"features\")"
      ],
      "metadata": {
        "id": "WFkWCzHrOQlt"
      },
      "execution_count": 12,
      "outputs": []
    },
    {
      "cell_type": "code",
      "source": [
        "idfModel = idf.fit(featurizedData)"
      ],
      "metadata": {
        "id": "_ZtWNiYnOaYM"
      },
      "execution_count": 13,
      "outputs": []
    },
    {
      "cell_type": "code",
      "source": [
        "rescaledData = idfModel.transform(featurizedData)"
      ],
      "metadata": {
        "id": "0nY19KRaOe50"
      },
      "execution_count": 14,
      "outputs": []
    },
    {
      "cell_type": "code",
      "source": [
        "rescaledData.select(\"label\", \"features\").show()"
      ],
      "metadata": {
        "colab": {
          "base_uri": "https://localhost:8080/"
        },
        "id": "Zvs6qlOXOmOc",
        "outputId": "5395ca77-9269-4478-c121-80b6b954fb1c"
      },
      "execution_count": 15,
      "outputs": [
        {
          "output_type": "stream",
          "name": "stdout",
          "text": [
            "+-----+--------------------+\n",
            "|label|            features|\n",
            "+-----+--------------------+\n",
            "|  0.0|(20,[6,8,13,16],[...|\n",
            "|  0.0|(20,[0,7,13,15,16...|\n",
            "|  0.0|(20,[3,4,6,11,19]...|\n",
            "+-----+--------------------+\n",
            "\n"
          ]
        }
      ]
    },
    {
      "cell_type": "code",
      "source": [
        "spark.stop()"
      ],
      "metadata": {
        "id": "9NDOvkoaOses"
      },
      "execution_count": 16,
      "outputs": []
    },
    {
      "cell_type": "code",
      "source": [],
      "metadata": {
        "id": "KRsvkTlEOxb7"
      },
      "execution_count": null,
      "outputs": []
    }
  ]
}